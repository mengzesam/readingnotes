{
 "cells": [
  {
   "cell_type": "markdown",
   "id": "wireless-stress",
   "metadata": {},
   "source": [
    "## Hermitian Matrix\n",
    "***\n",
    "- **Lemma**: $\\mathbf{A}$ is Hermitian if and only if $\\mathbf{x^*Ax}$ is real for all \n",
    "$\\mathbf{x}\\in \\mathbf{C}^n$ \n",
    ">**proof.** <br/>\n",
    "  only if(necessity):\n",
    "    $\\overline{\\mathbf{x^*Ax}}=\\mathbf{(x^*Ax)^*}=\\mathbf{x^*A^*x}$,\n",
    "    and $\\mathbf{A^*=A}$,\n",
    "    so $\\overline{\\mathbf{x^*Ax}}=\\mathbf{x^*Ax}$,\n",
    "    that is $\\mathbf{x^*Ax}$ equals its complex conjugate and hence is real,\n",
    "    or $\\mathbf{x^*Ax} \\in R$.<br/>\n",
    "  if(sufficiency):$\\forall\\mathbf{x}\\in \\mathbf{C^n},\\mathbf{x^*Ax}$ is real,\n",
    "  $\\mathbf{(x+y)^*A(x+y)}\\in R$,that is $\\mathbf{(x+y)^*A(x+y)}=\\mathbf{x^*Ax+y^*Ay+x^*Ay+y^*Ax} \\in R$,\n",
    "  so $\\forall x \\in C^n,\\mathbf{x^*Ay+y^*Ax}\\in R$.If we choose $\\mathbf{x=e_k,y=e_j}$,then $\\mathbf{x^*Ay}=\\mathit{a_{kj}},\\mathbf{y^*Ax}=\\mathit{a_{jk}}$ ,so $\\mathbf{x^*Ay+y^*Ax}=\\mathit{a_{kj}+a_{jk}}$ is real, i.e. $Im(\\mathit{a_{kj}})=-Im(\\mathit{a_{jk}})$.\n",
    "  If we choose $\\mathbf{x=ie_k,y=e_j}$,then $\\mathbf{x^*Ay+y^*Ax}=\\mathit{\\mathbf{-i}a_{kj}+\\mathbf{i}a_{jk}}$ is real,i.e. $Re(\\mathit{a_{kj}})=Re(\\mathit{a_{jk}})$.<br/>\n",
    "  To sum up,$\\forall k,j \\in [1,n], \\exists a_{kj}=\\overline{a_{jk}}$, hence $\\mathbf{A^*=A}$, A is Hermitian.\n",
    "\n",
    "- **Lemma**: If $\\mathbf{A}$ is Hermitian then the eigenvalues of $\\mathbf{A}$ are real. \n",
    ">**Proof.** <br/>\n",
    "> If $\\mathbf{Ax=\\lambda x}$ and $\\mathbf{x^*x=1}$, \n",
    "> then $\\lambda =\\lambda \\mathbf{x^*x}=\\mathbf{x^*\\lambda x}> =\\mathbf{x^*Ax}$, so $\\lambda$ is real.\n",
    "\n",
    "- **Lemma**: If $\\mathbf{A}$ if normal and has only real eigenvalues, then $\\mathbf{A}$ is Hermitian.\n",
    "> **Proof.** <br/>\n",
    "> If $\\mathbf{A}$ is normal, it is Unitarily diagonalizable, so \n",
    "> $\\mathbf{A=U \\Lambda U^*}$ with $\\Lambda=diag(\\lambda_1,\\lambda_2,...,\\lambda_n)$, $\\mathbf{A^*=(U \\Lambda U^*)^*=U \\bar{\\Lambda}U^*}$, but if $\\Lambda$ is real, we have $\\mathbf{A^*=U \\Lambda U^*=A}$."
   ]
  },
  {
   "cell_type": "code",
   "execution_count": null,
   "id": "representative-judgment",
   "metadata": {},
   "outputs": [],
   "source": []
  }
 ],
 "metadata": {
  "kernelspec": {
   "display_name": "Python 3",
   "language": "python",
   "name": "python3"
  },
  "language_info": {
   "codemirror_mode": {
    "name": "ipython",
    "version": 3
   },
   "file_extension": ".py",
   "mimetype": "text/x-python",
   "name": "python",
   "nbconvert_exporter": "python",
   "pygments_lexer": "ipython3",
   "version": "3.6.9"
  }
 },
 "nbformat": 4,
 "nbformat_minor": 5
}
