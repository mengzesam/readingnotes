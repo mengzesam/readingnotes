{
 "cells": [
  {
   "cell_type": "markdown",
   "id": "lasting-cross",
   "metadata": {},
   "source": [
    "\n",
    "- [ ] Finish my changes\n",
    "- [ ] Push my commits to GitHub\n",
    "- [ ] Open a pull request\n",
    "- [ ] \\(Optional) http://github.com - automatic!\n",
    "[GitHub](http://github.com)\n",
    "\n",
    "As Kanye West said:\n",
    "\n",
    "> We're living the future so\n",
    "> the present is our past.\n",
    "I think you should use an\n",
    "`<addr>` element here instead.\n",
    "\n",
    "```javascript\n",
    "function fancyAlert(arg) {\n",
    "  if(arg) {\n",
    "    $.facebox({div:'#foo'})\n",
    "  }\n",
    "}\n",
    "```\n",
    "\n",
    "- [x] @mentions, #refs, [links](), **formatting**, and <del>tags</del> supported\n",
    "- [x] list syntax required (any unordered or ordered list supported)\n",
    "- [x] this is a complete item\n",
    "- [ ] this is an incomplete item\n",
    "***\n",
    "\n",
    "First Header | Second Header\n",
    "------------ | -------------\n",
    "Content from cell 1 | Content from cell 2\n",
    "Content in the first column | Content in the second column"
   ]
  },
  {
   "cell_type": "code",
   "execution_count": null,
   "id": "respected-explorer",
   "metadata": {},
   "outputs": [],
   "source": []
  }
 ],
 "metadata": {
  "kernelspec": {
   "display_name": "Python 3",
   "language": "python",
   "name": "python3"
  },
  "language_info": {
   "codemirror_mode": {
    "name": "ipython",
    "version": 3
   },
   "file_extension": ".py",
   "mimetype": "text/x-python",
   "name": "python",
   "nbconvert_exporter": "python",
   "pygments_lexer": "ipython3",
   "version": "3.6.9"
  },
  "latex_envs": {
   "LaTeX_envs_menu_present": true,
   "autoclose": false,
   "autocomplete": true,
   "bibliofile": "biblio.bib",
   "cite_by": "apalike",
   "current_citInitial": 1,
   "eqLabelWithNumbers": true,
   "eqNumInitial": 1,
   "hotkeys": {
    "equation": "Ctrl-E",
    "itemize": "Ctrl-I"
   },
   "labels_anchors": false,
   "latex_user_defs": false,
   "report_style_numbering": false,
   "user_envs_cfg": false
  }
 },
 "nbformat": 4,
 "nbformat_minor": 5
}
